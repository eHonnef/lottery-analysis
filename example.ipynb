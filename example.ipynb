{
 "metadata": {
  "language_info": {
   "codemirror_mode": {
    "name": "ipython",
    "version": 3
   },
   "file_extension": ".py",
   "mimetype": "text/x-python",
   "name": "python",
   "nbconvert_exporter": "python",
   "pygments_lexer": "ipython3",
   "version": "3.7.6-final"
  },
  "orig_nbformat": 2,
  "kernelspec": {
   "name": "Python 3.7.6 64-bit",
   "display_name": "Python 3.7.6 64-bit",
   "metadata": {
    "interpreter": {
     "hash": "524287f498d81f8a08b56bf82a194813022c79aee09c564c17445391cf5be51e"
    }
   }
  }
 },
 "nbformat": 4,
 "nbformat_minor": 2,
 "cells": [
  {
   "cell_type": "code",
   "execution_count": 9,
   "metadata": {},
   "outputs": [],
   "source": [
    "from lottery_utils import File, Analysis\n",
    "from itertools import combinations\n",
    "import numpy as np"
   ]
  },
  {
   "cell_type": "code",
   "execution_count": 10,
   "metadata": {},
   "outputs": [],
   "source": [
    "# Getting the dataframe\n",
    "f = File.rename(File.from_csv(\"./inpt/example.csv\"))\n",
    "f"
   ]
  },
  {
   "cell_type": "code",
   "execution_count": 11,
   "metadata": {},
   "outputs": [
    {
     "output_type": "execute_result",
     "data": {
      "text/plain": [
       "[((2, 35, 50), 6),\n",
       " ((32, 49, 60), 5),\n",
       " ((35, 39, 26), 5),\n",
       " ((2, 14, 23), 5),\n",
       " ((10, 13, 20), 5),\n",
       " ((35, 6, 28), 5),\n",
       " ((7, 12, 24), 5),\n",
       " ((2, 18, 30), 5),\n",
       " ((48, 52, 58), 5),\n",
       " ((15, 48, 17), 5)]"
      ]
     },
     "metadata": {},
     "execution_count": 11
    }
   ],
   "source": [
    "# Getting the most common group of numbers that are drawn together\n",
    "gf = Analysis.group_frequency(f, 3)\n",
    "gf.most_common()[0:10]"
   ]
  },
  {
   "cell_type": "code",
   "execution_count": 12,
   "metadata": {},
   "outputs": [
    {
     "output_type": "execute_result",
     "data": {
      "text/plain": [
       "[(10, 219),\n",
       " (53, 217),\n",
       " (28, 212),\n",
       " (37, 211),\n",
       " (5, 210),\n",
       " (4, 209),\n",
       " (42, 209),\n",
       " (43, 208),\n",
       " (29, 208),\n",
       " (54, 208)]"
      ]
     },
     "metadata": {},
     "execution_count": 12
    }
   ],
   "source": [
    "# The most common numbers\n",
    "n_f = Analysis.frequency(f)\n",
    "n_f.most_common()[:10]"
   ]
  },
  {
   "cell_type": "code",
   "execution_count": 13,
   "metadata": {},
   "outputs": [],
   "source": [
    "# Generating combinations of 6 from the 25 most common numbers\n",
    "combs = np.array(list(combinations(n_f.most_common()[:25], 6)))"
   ]
  },
  {
   "cell_type": "code",
   "execution_count": 14,
   "metadata": {},
   "outputs": [
    {
     "output_type": "execute_result",
     "data": {
      "text/plain": [
       "array([[[ 10, 219],\n",
       "        [ 53, 217],\n",
       "        [ 28, 212],\n",
       "        [ 44, 207],\n",
       "        [ 27, 203],\n",
       "        [ 11, 198]],\n",
       "\n",
       "       [[ 42, 209],\n",
       "        [ 43, 208],\n",
       "        [ 44, 207],\n",
       "        [ 18, 203],\n",
       "        [ 24, 202],\n",
       "        [ 11, 198]],\n",
       "\n",
       "       [[ 54, 208],\n",
       "        [ 44, 207],\n",
       "        [ 35, 205],\n",
       "        [ 36, 201],\n",
       "        [ 11, 198],\n",
       "        [ 56, 198]]])"
      ]
     },
     "metadata": {},
     "execution_count": 14
    }
   ],
   "source": [
    "# Choosing randomly 3 combinations (these are the numbers you are going to \"bet\")\n",
    "# The first number (left) is the actual number and the second one (right) is how many times it was drawn\n",
    "combs[np.random.randint(0, len(combs), 3)]"
   ]
  },
  {
   "cell_type": "code",
   "execution_count": 15,
   "metadata": {},
   "outputs": [],
   "source": [
    "# Generating combinations of 2 from the 5 most common group of numbers\n",
    "combs = np.array(list(combinations(gf.most_common()[:5], 2)))"
   ]
  },
  {
   "cell_type": "code",
   "execution_count": 16,
   "metadata": {},
   "outputs": [
    {
     "output_type": "execute_result",
     "data": {
      "text/plain": [
       "array([[[(2, 14, 23), 5],\n",
       "        [(10, 13, 20), 5]],\n",
       "\n",
       "       [[(2, 14, 23), 5],\n",
       "        [(10, 13, 20), 5]],\n",
       "\n",
       "       [[(35, 39, 26), 5],\n",
       "        [(2, 14, 23), 5]]], dtype=object)"
      ]
     },
     "metadata": {},
     "execution_count": 16
    }
   ],
   "source": [
    "# Choosing randomly 3 combinations\n",
    "combs[np.random.randint(0, len(combs), 3)]"
   ]
  }
 ]
}